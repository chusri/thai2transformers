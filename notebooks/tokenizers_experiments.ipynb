{
 "cells": [
  {
   "cell_type": "code",
   "execution_count": 16,
   "metadata": {},
   "outputs": [
    {
     "name": "stdout",
     "output_type": "stream",
     "text": [
      "loading model.....\n",
      "Success\n"
     ]
    },
    {
     "data": {
      "text/plain": [
       "'0.9.4'"
      ]
     },
     "execution_count": 16,
     "metadata": {},
     "output_type": "execute_result"
    }
   ],
   "source": [
    "from tokenizers import Tokenizer, pre_tokenizers, models\n",
    "from thai2transformers.tokenizers import CustomPreTokenizer, WordLevelTrainer\n",
    "\n",
    "#newmm\n",
    "from pythainlp.tokenize import word_tokenize, syllable_tokenize\n",
    "\n",
    "#sefr cut\n",
    "import sefr_cut\n",
    "sefr_cut.load_model(engine='ws1000')\n",
    "def pingcut(text):\n",
    "    return sefr_cut.tokenize(text)[0]\n",
    "\n",
    "#parameter\n",
    "# tokenize_func = syllable_tokenize #word_tokenize, syllable_tokenize, pingcut (very slow on CPU)\n",
    "tokenize_func =  word_tokenize #, syllable_tokenize, pingcut (very slow on CPU)\n",
    "texts = ['โรนัลโด<_>เขาได้เล่นกับทีม','โปรตุเกส<_>มีโรนัลโด']\n",
    "\n",
    "from transformers import CamembertTokenizer\n",
    "\n",
    "#tokenizers version used\n",
    "import tokenizers\n",
    "tokenizers.__version__"
   ]
  },
  {
   "cell_type": "code",
   "execution_count": 50,
   "metadata": {},
   "outputs": [
    {
     "name": "stdout",
     "output_type": "stream",
     "text": [
      "CPU times: user 19 ms, sys: 51.8 ms, total: 70.8 ms\n",
      "Wall time: 184 ms\n"
     ]
    }
   ],
   "source": [
    "%%time\n",
    "#get vocab\n",
    "trainer = WordLevelTrainer(pre_tokenize_func=tokenize_func, \n",
    "                           vocab_size=10, \n",
    "                           input_dir='test_folder', \n",
    "                           additional_special_tokens=['<s>','<pad>','</s>','<unk>','<mask>', '<_>'])\n",
    "trainer.count_parallel()\n",
    "trainer.save_vocab('test.json')"
   ]
  },
  {
   "cell_type": "code",
   "execution_count": 51,
   "metadata": {},
   "outputs": [
    {
     "data": {
      "text/plain": [
       "Counter({'กริช': 3,\n",
       "         'ตี': 3,\n",
       "         'ยา': 3,\n",
       "         'นู': 3,\n",
       "         ' ': 306,\n",
       "         'รู': 6,\n",
       "         'นัล': 6,\n",
       "         'ดู': 6,\n",
       "         'ดุ': 3,\n",
       "         'ช': 6,\n",
       "         'ซัง': 3,\n",
       "         'ตุ': 6,\n",
       "         'อา': 6,\n",
       "         'ไว': 3,\n",
       "         '(': 3,\n",
       "         'โปรตุเกส': 27,\n",
       "         ':': 3,\n",
       "         'Cristiano': 3,\n",
       "         'Ronaldo': 3,\n",
       "         'dos': 3,\n",
       "         'Santos': 3,\n",
       "         'Aveiro': 3,\n",
       "         ';': 3,\n",
       "         'เกิด': 3,\n",
       "         '5': 6,\n",
       "         'กุมภาพันธ์': 3,\n",
       "         'ค.ศ.': 6,\n",
       "         '1985': 3,\n",
       "         ')': 3,\n",
       "         'หรือ': 3,\n",
       "         'ที่': 21,\n",
       "         'รู้จัก': 3,\n",
       "         'กัน': 3,\n",
       "         'ใน': 69,\n",
       "         'ชื่อ': 3,\n",
       "         'ค': 6,\n",
       "         'ริ': 6,\n",
       "         'สเตีย': 6,\n",
       "         'โน': 6,\n",
       "         'โรนัลโด': 36,\n",
       "         'เป็น': 27,\n",
       "         'นักฟุตบอล': 6,\n",
       "         'ชาว': 3,\n",
       "         'ปัจจุบัน': 6,\n",
       "         'เล่น': 27,\n",
       "         'ตำแหน่ง': 9,\n",
       "         'กองหน้า': 3,\n",
       "         'ให้': 12,\n",
       "         'กับ': 30,\n",
       "         'ยู': 6,\n",
       "         'เวน': 3,\n",
       "         'ส': 3,\n",
       "         'เซ': 3,\n",
       "         'เรีย': 3,\n",
       "         'และ': 15,\n",
       "         'กัปตัน': 6,\n",
       "         'ทีม': 30,\n",
       "         'ชาติ': 21,\n",
       "         'คน': 12,\n",
       "         'ผู้': 3,\n",
       "         'มี': 12,\n",
       "         'ค่าตัว': 6,\n",
       "         'แพง': 3,\n",
       "         'ที่สุด': 6,\n",
       "         'อันดับ': 6,\n",
       "         'หก': 3,\n",
       "         'ประวัติศาสตร์': 3,\n",
       "         'ฟุตบอล': 18,\n",
       "         'หลัง': 3,\n",
       "         'ย้าย': 9,\n",
       "         'จาก': 3,\n",
       "         'แมนเชสเตอร์': 6,\n",
       "         'ยูไนเต็ด': 6,\n",
       "         'มา': 6,\n",
       "         'อยู่': 12,\n",
       "         'เร': 6,\n",
       "         'อัล': 6,\n",
       "         'มาดริด': 6,\n",
       "         'ด้วย': 6,\n",
       "         '80': 3,\n",
       "         'ล้าน': 12,\n",
       "         'ปอนด์': 9,\n",
       "         'ได้รับ': 6,\n",
       "         'ค่าจ้าง': 3,\n",
       "         'การ': 6,\n",
       "         'ลง': 21,\n",
       "         'จำนวน': 6,\n",
       "         '12': 3,\n",
       "         'ต่อ': 3,\n",
       "         'ปี': 21,\n",
       "         'ทำให้': 6,\n",
       "         'เขา': 36,\n",
       "         'นักเตะ': 9,\n",
       "         'ค่าเหนื่อย': 3,\n",
       "         'มาก': 3,\n",
       "         'โลก': 9,\n",
       "         '[': 12,\n",
       "         '2': 3,\n",
       "         ']': 12,\n",
       "         '\\n': 18,\n",
       "         'ได้': 48,\n",
       "         'ในนาม': 6,\n",
       "         'เยาวชน': 3,\n",
       "         'ของ': 15,\n",
       "         'อัง': 3,\n",
       "         'รี': 3,\n",
       "         'ญา': 3,\n",
       "         'เมื่อ': 3,\n",
       "         'สอง': 3,\n",
       "         'ก่อนที่จะ': 3,\n",
       "         'ไป': 6,\n",
       "         'นาซี': 3,\n",
       "         '1997': 3,\n",
       "         'ทำสัญญา': 3,\n",
       "         'สโมสร': 3,\n",
       "         'ยักษ์': 3,\n",
       "         'ใหญ่': 3,\n",
       "         'อย่าง': 6,\n",
       "         'สปอร์': 3,\n",
       "         'ติง': 3,\n",
       "         'ลิสบอน': 3,\n",
       "         'ถูก': 3,\n",
       "         'พิจารณา': 3,\n",
       "         'ตัว': 6,\n",
       "         'โดย': 6,\n",
       "         'ซื้อ': 6,\n",
       "         'คือ': 6,\n",
       "         'อ': 3,\n",
       "         'เล็ก': 3,\n",
       "         'ซ์': 3,\n",
       "         'เฟอร์': 3,\n",
       "         'กู': 3,\n",
       "         'สัน': 3,\n",
       "         'เงิน': 3,\n",
       "         '12.24': 3,\n",
       "         'แชมป์': 6,\n",
       "         'เอฟเอคัพ': 3,\n",
       "         'ซึ่ง': 3,\n",
       "         'เกียรติประวัติ': 3,\n",
       "         'แรก': 9,\n",
       "         '2003': 6,\n",
       "         'เกม': 3,\n",
       "         'ระดับชาติ': 3,\n",
       "         'นัด': 15,\n",
       "         'ตอน': 3,\n",
       "         'เจอ': 9,\n",
       "         'คาซัคสถาน': 3,\n",
       "         'เดือน': 6,\n",
       "         'สิงหาคม': 3,\n",
       "         'หลังจากนั้น': 6,\n",
       "         'มากขึ้น': 6,\n",
       "         'รวมทั้งหมด': 3,\n",
       "         'ถึง': 9,\n",
       "         'ห้า': 3,\n",
       "         'ทัวร์นาเมนต์': 6,\n",
       "         'ได้แก่': 3,\n",
       "         'ยูโร': 18,\n",
       "         '2004,': 3,\n",
       "         '2006,': 3,\n",
       "         '2008,': 3,\n",
       "         '2010': 3,\n",
       "         '2012': 15,\n",
       "         'ทำประตู': 3,\n",
       "         'การแข่งขัน': 12,\n",
       "         '2004': 6,\n",
       "         'เปิด': 3,\n",
       "         'กรีซ': 3,\n",
       "         'คนสำคัญ': 3,\n",
       "         'การนำ': 3,\n",
       "         'เข้าไป': 6,\n",
       "         'ชิงชนะเลิศ': 3,\n",
       "         'มีบทบาท': 3,\n",
       "         'ตัวจริง': 3,\n",
       "         '2008': 12,\n",
       "         'ครั้งแรก': 3,\n",
       "         'นำ': 3,\n",
       "         'เข้าแข่งขัน': 3,\n",
       "         'สามารถ': 6,\n",
       "         'รอบ': 3,\n",
       "         'รองชนะเลิศ': 3,\n",
       "         'ยิง': 3,\n",
       "         'สาม': 6,\n",
       "         'ประตู': 3,\n",
       "         'นี้': 3,\n",
       "         'วันที่': 3,\n",
       "         '16': 3,\n",
       "         'ตุลาคม': 6,\n",
       "         'ครบ': 3,\n",
       "         '100': 6,\n",
       "         'สำหรับ': 3,\n",
       "         'ไอร์แลนด์': 3,\n",
       "         'เหนือ': 3,\n",
       "         'เป็นหนึ่ง': 3,\n",
       "         'เกิน': 3,\n",
       "         '3': 3,\n",
       "         'เฟซบุ๊ก': 3,\n",
       "         'เป็นทางการ': 3,\n",
       "         'ติดตาม': 3,\n",
       "         '50': 3,\n",
       "         '4': 3,\n",
       "         'ชิงแชมป์': 3,\n",
       "         'แห่งชาติ': 3,\n",
       "         'ยุโรป': 3,\n",
       "         'จัดอันดับ': 3,\n",
       "         'รูปงาม': 3,\n",
       "         'แห่ง': 3,\n",
       "         'จัดทำ': 3,\n",
       "         'แอล': 3,\n",
       "         'จี': 3,\n",
       "         'บริษัท': 3,\n",
       "         'ผลิต': 3,\n",
       "         'เครื่องใช้ไฟฟ้า': 3,\n",
       "         'คะแนน': 3,\n",
       "         'โหวต': 3,\n",
       "         'ครั้งนี้': 3,\n",
       "         '1': 3,\n",
       "         'รับรางวัล': 3,\n",
       "         'นักกีฬา': 3,\n",
       "         'ไอบีเรีย': 3,\n",
       "         '-': 3,\n",
       "         'อเมริกา': 3,\n",
       "         'ประจำปี': 3,\n",
       "         'ประเภท': 3,\n",
       "         'ชา': 3})"
      ]
     },
     "execution_count": 51,
     "metadata": {},
     "output_type": "execute_result"
    }
   ],
   "source": [
    "trainer.token_counter"
   ]
  },
  {
   "cell_type": "code",
   "execution_count": 52,
   "metadata": {},
   "outputs": [
    {
     "data": {
      "text/plain": [
       "{'<s>': 0,\n",
       " '<pad>': 1,\n",
       " '</s>': 2,\n",
       " '<unk>': 3,\n",
       " '<mask>': 4,\n",
       " '<_>': 5,\n",
       " ' ': 6,\n",
       " 'ใน': 7,\n",
       " 'ได้': 8,\n",
       " 'โรนัลโด': 9,\n",
       " 'เขา': 10,\n",
       " 'กับ': 11,\n",
       " 'ทีม': 12,\n",
       " 'โปรตุเกส': 13,\n",
       " 'เป็น': 14,\n",
       " 'เล่น': 15}"
      ]
     },
     "execution_count": 52,
     "metadata": {},
     "output_type": "execute_result"
    }
   ],
   "source": [
    "trainer.vocab"
   ]
  },
  {
   "cell_type": "code",
   "execution_count": 53,
   "metadata": {},
   "outputs": [],
   "source": [
    "#create pretokenizer and tokenizer\n",
    "c = CustomPreTokenizer(tokenize_func)\n",
    "pre = pre_tokenizers.PreTokenizer.custom(c)\n",
    "tokenizer = Tokenizer(models.WordLevel.from_file('test.json', unk_token = '<unk>'))\n",
    "tokenizer.pre_tokenizer = pre"
   ]
  },
  {
   "cell_type": "code",
   "execution_count": 54,
   "metadata": {},
   "outputs": [
    {
     "data": {
      "text/plain": [
       "[Encoding(num_tokens=7, attributes=[ids, type_ids, tokens, offsets, attention_mask, special_tokens_mask, overflowing]),\n",
       " Encoding(num_tokens=4, attributes=[ids, type_ids, tokens, offsets, attention_mask, special_tokens_mask, overflowing])]"
      ]
     },
     "execution_count": 54,
     "metadata": {},
     "output_type": "execute_result"
    }
   ],
   "source": [
    "#simple encoding\n",
    "tokenizer.encode_batch(texts)"
   ]
  },
  {
   "cell_type": "code",
   "execution_count": 55,
   "metadata": {},
   "outputs": [],
   "source": [
    "#padding\n",
    "tokenizer.enable_padding(pad_id=1, pad_token=\"<pad>\", length=10)"
   ]
  },
  {
   "cell_type": "code",
   "execution_count": 56,
   "metadata": {},
   "outputs": [],
   "source": [
    "#truncation\n",
    "tokenizer.enable_truncation(max_length=10)"
   ]
  },
  {
   "cell_type": "code",
   "execution_count": 57,
   "metadata": {},
   "outputs": [
    {
     "data": {
      "text/plain": [
       "[{'input_ids': [9, 5, 10, 8, 15, 11, 12, 1, 1, 1],\n",
       "  'attention_mask': [1, 1, 1, 1, 1, 1, 1, 0, 0, 0]},\n",
       " {'input_ids': [13, 5, 3, 9, 1, 1, 1, 1, 1, 1],\n",
       "  'attention_mask': [1, 1, 1, 1, 0, 0, 0, 0, 0, 0]}]"
      ]
     },
     "execution_count": 57,
     "metadata": {},
     "output_type": "execute_result"
    }
   ],
   "source": [
    "#done\n",
    "res = [{'input_ids': i.ids, 'attention_mask': i.attention_mask} for i in tokenizer.encode_batch(texts)]\n",
    "res"
   ]
  },
  {
   "cell_type": "code",
   "execution_count": 58,
   "metadata": {},
   "outputs": [
    {
     "data": {
      "text/plain": [
       "'โรนัลโด <_> เขา ได้ เล่น กับ ทีม <pad> <pad> <pad>'"
      ]
     },
     "execution_count": 58,
     "metadata": {},
     "output_type": "execute_result"
    }
   ],
   "source": [
    "tokenizer.decode(res[0]['input_ids'])"
   ]
  },
  {
   "cell_type": "code",
   "execution_count": 59,
   "metadata": {},
   "outputs": [
    {
     "data": {
      "text/plain": [
       "'โปรตุเกส <_> <unk> โรนัลโด <pad> <pad> <pad> <pad> <pad> <pad>'"
      ]
     },
     "execution_count": 59,
     "metadata": {},
     "output_type": "execute_result"
    }
   ],
   "source": [
    "tokenizer.decode(res[1]['input_ids'])"
   ]
  },
  {
   "cell_type": "code",
   "execution_count": 60,
   "metadata": {},
   "outputs": [
    {
     "data": {
      "text/plain": [
       "[{'input_ids': [3, 5, 3, 1, 1, 1, 1, 1, 1, 1],\n",
       "  'attention_mask': [1, 1, 1, 0, 0, 0, 0, 0, 0, 0]}]"
      ]
     },
     "execution_count": 60,
     "metadata": {},
     "output_type": "execute_result"
    }
   ],
   "source": [
    "#simple encoding\n",
    "res = [\n",
    "    {'input_ids': i.ids, 'attention_mask': i.attention_mask} for i in tokenizer.encode_batch(['UBI<_>และ'])\n",
    "]\n",
    "\n",
    "res"
   ]
  },
  {
   "cell_type": "code",
   "execution_count": 61,
   "metadata": {},
   "outputs": [
    {
     "data": {
      "text/plain": [
       "'<unk> <_> <unk> <pad> <pad> <pad> <pad> <pad> <pad> <pad>'"
      ]
     },
     "execution_count": 61,
     "metadata": {},
     "output_type": "execute_result"
    }
   ],
   "source": [
    "tokenizer.decode(res[0]['input_ids'])"
   ]
  },
  {
   "cell_type": "code",
   "execution_count": 63,
   "metadata": {},
   "outputs": [
    {
     "data": {
      "text/plain": [
       "(0, 1, 2, 3, 4, 5)"
      ]
     },
     "execution_count": 63,
     "metadata": {},
     "output_type": "execute_result"
    }
   ],
   "source": [
    "tokenizer.token_to_id('<s>'), tokenizer.token_to_id('<pad>'),\\\n",
    "tokenizer.token_to_id('</s>'), tokenizer.token_to_id('<unk>'),\\\n",
    "tokenizer.token_to_id('<mask>'), tokenizer.token_to_id('<_>')"
   ]
  },
  {
   "cell_type": "code",
   "execution_count": null,
   "metadata": {},
   "outputs": [],
   "source": []
  }
 ],
 "metadata": {
  "hide_input": false,
  "kernelspec": {
   "display_name": "Python 3",
   "language": "python",
   "name": "python3"
  },
  "language_info": {
   "codemirror_mode": {
    "name": "ipython",
    "version": 3
   },
   "file_extension": ".py",
   "mimetype": "text/x-python",
   "name": "python",
   "nbconvert_exporter": "python",
   "pygments_lexer": "ipython3",
   "version": "3.7.6"
  }
 },
 "nbformat": 4,
 "nbformat_minor": 4
}
